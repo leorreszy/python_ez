{
 "cells": [
  {
   "cell_type": "code",
   "execution_count": 1,
   "metadata": {},
   "outputs": [],
   "source": [
    "#run this part before doing the practice\n",
    "\n",
    "def nacci(length):\n",
    "    fib = [1, 1]\n",
    "    i = 2\n",
    "    while i < length:\n",
    "        fib += [fib[-1] + fib[-2]]\n",
    "        i += 1\n",
    "    return fib\n",
    "\n",
    "import hashlib\n",
    "\n",
    "def generate_dict():\n",
    "    keys = [\"hello\", \"there\", \"hello_there\", \"hello there\", \"dictionaries are cool\"]\n",
    "    return {key: hashlib.md5(key.encode('utf-8')).hexdigest() for key in keys}\n",
    "\n"
   ]
  },
  {
   "cell_type": "code",
   "execution_count": 2,
   "metadata": {},
   "outputs": [],
   "source": [
    "#run this part before doing the practice\n",
    "fibolist = nacci(50)\n",
    "demodict1 = generate_dict()"
   ]
  },
  {
   "cell_type": "code",
   "execution_count": 3,
   "metadata": {},
   "outputs": [
    {
     "data": {
      "text/plain": [
       "12586269025"
      ]
     },
     "execution_count": 3,
     "metadata": {},
     "output_type": "execute_result"
    }
   ],
   "source": [
    "#1. Find the last element of fibolist:\n",
    "fibolist[-1]"
   ]
  },
  {
   "cell_type": "code",
   "execution_count": 4,
   "metadata": {},
   "outputs": [
    {
     "data": {
      "text/plain": [
       "12586269025"
      ]
     },
     "execution_count": 4,
     "metadata": {},
     "output_type": "execute_result"
    }
   ],
   "source": [
    "#2. Find the sum of all even entries (indices 0, 2, 4,...) of fibolist:\n",
    "sum(fibolist[0::2])"
   ]
  },
  {
   "cell_type": "code",
   "execution_count": 5,
   "metadata": {},
   "outputs": [
    {
     "data": {
      "text/plain": [
       "[1,\n",
       " 1,\n",
       " 2,\n",
       " 3,\n",
       " 5,\n",
       " 8,\n",
       " 13,\n",
       " 21,\n",
       " 34,\n",
       " 55,\n",
       " 89,\n",
       " 144,\n",
       " 233,\n",
       " 377,\n",
       " 610,\n",
       " 987,\n",
       " 1597,\n",
       " 2584,\n",
       " 4181,\n",
       " 6765,\n",
       " 10946,\n",
       " 17711,\n",
       " 28657,\n",
       " 46368,\n",
       " 75025,\n",
       " 121393,\n",
       " 196418,\n",
       " 317811,\n",
       " 514229,\n",
       " 832040,\n",
       " 1346269,\n",
       " 2178309,\n",
       " 3524578,\n",
       " 5702887,\n",
       " 9227465,\n",
       " 14930352,\n",
       " 24157817,\n",
       " 39088169,\n",
       " 63245986,\n",
       " 102334155,\n",
       " 165580141,\n",
       " 267914296,\n",
       " 433494437,\n",
       " 701408733,\n",
       " 1134903170,\n",
       " 1836311903,\n",
       " 2971215073,\n",
       " 4807526976,\n",
       " 7778742049,\n",
       " 12586269025,\n",
       " 20365011074]"
      ]
     },
     "execution_count": 5,
     "metadata": {},
     "output_type": "execute_result"
    }
   ],
   "source": [
    "#3. Lists can be extended. The next fibonacci number is 20365011074, add it to fibolist.\n",
    "fibolist.append(20365011074)\n",
    "fibolist"
   ]
  },
  {
   "cell_type": "code",
   "execution_count": 6,
   "metadata": {},
   "outputs": [
    {
     "data": {
      "text/plain": [
       "[20365011074,\n",
       " 12586269025,\n",
       " 7778742049,\n",
       " 4807526976,\n",
       " 2971215073,\n",
       " 1836311903,\n",
       " 1134903170,\n",
       " 701408733,\n",
       " 433494437,\n",
       " 267914296,\n",
       " 165580141,\n",
       " 102334155,\n",
       " 63245986,\n",
       " 39088169,\n",
       " 24157817,\n",
       " 14930352,\n",
       " 9227465,\n",
       " 5702887,\n",
       " 3524578,\n",
       " 2178309,\n",
       " 1346269,\n",
       " 832040,\n",
       " 514229,\n",
       " 317811,\n",
       " 196418,\n",
       " 121393,\n",
       " 75025,\n",
       " 46368,\n",
       " 28657,\n",
       " 17711,\n",
       " 10946,\n",
       " 6765,\n",
       " 4181,\n",
       " 2584,\n",
       " 1597,\n",
       " 987,\n",
       " 610,\n",
       " 377,\n",
       " 233,\n",
       " 144,\n",
       " 89,\n",
       " 55,\n",
       " 34,\n",
       " 21,\n",
       " 13,\n",
       " 8,\n",
       " 5,\n",
       " 3,\n",
       " 2,\n",
       " 1,\n",
       " 1]"
      ]
     },
     "execution_count": 6,
     "metadata": {},
     "output_type": "execute_result"
    }
   ],
   "source": [
    "#4. Can you put a reversed copy of fibolist into fibolist_reversed without changing fibolist in place?\n",
    "fibolist.reverse()\n",
    "fibolist"
   ]
  },
  {
   "cell_type": "code",
   "execution_count": 7,
   "metadata": {},
   "outputs": [
    {
     "data": {
      "text/plain": [
       "[1, 2, 3, 4, 5, 'a', 'b', 'c', 'd', 'e']"
      ]
     },
     "execution_count": 7,
     "metadata": {},
     "output_type": "execute_result"
    }
   ],
   "source": [
    "A = [1, 2, 3, 4, 5]\n",
    "B = [\"a\", \"b\", \"c\", \"d\", \"e\"]\n",
    "#5. Two lists can be concatenated with +. Concatenate A and B together, and store the result in A_and_B.\n",
    "A_and_B = A + B\n",
    "A_and_B"
   ]
  },
  {
   "cell_type": "code",
   "execution_count": 9,
   "metadata": {},
   "outputs": [
    {
     "data": {
      "text/plain": [
       "False"
      ]
     },
     "execution_count": 9,
     "metadata": {},
     "output_type": "execute_result"
    }
   ],
   "source": [
    "#6. Check if 1337 is in fibolist. If it is, make is_1337_fibo True, otherwise make it False.\n",
    "is_1337_fibo = 1337 in fibolist\n",
    "is_1337_fibo"
   ]
  },
  {
   "cell_type": "code",
   "execution_count": 19,
   "metadata": {},
   "outputs": [
    {
     "name": "stdout",
     "output_type": "stream",
     "text": [
      "(1, 3, 4, 6, 8, 10, 4, 1)\n",
      "(0, 2, 'hello', 5, 7, 9, 1, 1, 91)\n"
     ]
    }
   ],
   "source": [
    "#####Tuples!#####\n",
    "maybe_your_first_tuple = (0, 1, 2, 3, \"hello\", 4, 5, 6, 7, 8, 9, 10, 1, 4, 1, 1, 91)\n",
    "\n",
    "#7. Tuples also support slicing like lists. Find the even- and odd-indexed entries of the tuple:\n",
    "your_first_tuple_odds = maybe_your_first_tuple[1::2]\n",
    "your_first_tuple_evens = maybe_your_first_tuple[0::2]\n",
    "print(your_first_tuple_odds)\n",
    "print(your_first_tuple_evens)"
   ]
  },
  {
   "cell_type": "code",
   "execution_count": 22,
   "metadata": {},
   "outputs": [
    {
     "data": {
      "text/plain": [
       "(1, 3, 4, 6, 8, 10, 4, 1)"
      ]
     },
     "execution_count": 22,
     "metadata": {},
     "output_type": "execute_result"
    }
   ],
   "source": [
    "your_first_tuple_odds"
   ]
  },
  {
   "cell_type": "code",
   "execution_count": 23,
   "metadata": {},
   "outputs": [
    {
     "data": {
      "text/plain": [
       "(0, 2, 'hello', 5, 7, 9, 1, 1, 91)"
      ]
     },
     "execution_count": 23,
     "metadata": {},
     "output_type": "execute_result"
    }
   ],
   "source": [
    "your_first_tuple_evens"
   ]
  },
  {
   "cell_type": "code",
   "execution_count": 10,
   "metadata": {},
   "outputs": [
    {
     "data": {
      "text/plain": [
       "{1, 2, 3, 4, 5, 6, 7, 8, 45, 52, 234, 243, 345, 523, 2345}"
      ]
     },
     "execution_count": 10,
     "metadata": {},
     "output_type": "execute_result"
    }
   ],
   "source": [
    "#####Sets!#####\n",
    "\n",
    "#8. Sets are often used to find the distinct elements of a list. Find the distinct elements below:\n",
    "some_repeats = [1,1,1,1,1,1,2,2,2,2,3,4,5,6,7,8,2345,345,2,52,243,5,2,345,523,45,5,4,2,2,3,5,234,2345]\n",
    "x = set(some_repeats)\n",
    "x"
   ]
  },
  {
   "cell_type": "code",
   "execution_count": 12,
   "metadata": {},
   "outputs": [],
   "source": [
    "set_A = set(range(100))\n",
    "set_B = set(range(0,200,2))\n",
    "\n",
    "#9. Apply the union and intersection operations to set_A and set_B as indicated:\n",
    "union = set_A | set_B\n",
    "intersection = set_A & set_B"
   ]
  },
  {
   "cell_type": "code",
   "execution_count": 13,
   "metadata": {},
   "outputs": [
    {
     "data": {
      "text/plain": [
       "'161bc25962da8fed6d2f59922fb642aa'"
      ]
     },
     "execution_count": 13,
     "metadata": {},
     "output_type": "execute_result"
    }
   ],
   "source": [
    "#####Dictionaries!#####\n",
    "\n",
    "# Dictionary elements are accessed by key rather than position.\n",
    "#10. Try it here - get the value of key \"hello there\" in the dictionary demodict1 (created at the top of this script):\n",
    "demodict1['hello there']"
   ]
  },
  {
   "cell_type": "code",
   "execution_count": 14,
   "metadata": {},
   "outputs": [],
   "source": [
    "#11. remove the key \"there\" from demodict1:\n",
    "del demodict1['there']"
   ]
  },
  {
   "cell_type": "code",
   "execution_count": 15,
   "metadata": {},
   "outputs": [],
   "source": [
    "#run this part before doing the practice\n",
    "import random\n",
    "random.seed(13789)\n",
    "account_id_list = range(1,51)\n",
    "account_balance_list = [random.randint(-2000,2000) for id in account_id_list]"
   ]
  },
  {
   "cell_type": "code",
   "execution_count": 16,
   "metadata": {},
   "outputs": [],
   "source": [
    "#12. Set total_balance equal to the sum of all the items in\n",
    "# account_balance_list.\n",
    "total_balance = sum(account_balance_list)"
   ]
  },
  {
   "cell_type": "code",
   "execution_count": 18,
   "metadata": {},
   "outputs": [
    {
     "name": "stdout",
     "output_type": "stream",
     "text": [
      "30410\n",
      "23\n"
     ]
    }
   ],
   "source": [
    "#13. Set total_credit_balance equal to the sum of all the items\n",
    "# in account_balance_list that are greater than or equal to zero.\n",
    "# Additionally, set num_accounts_with_credit equal to the number\n",
    "# of items that meet this criteria\n",
    "total_credit_balance = 0\n",
    "num_accounts_with_credit = 0\n",
    "for i in account_balance_list:\n",
    "    if i >= 0:\n",
    "        total_credit_balance = total_credit_balance + i\n",
    "        num_accounts_with_credit = num_accounts_with_credit + 1\n",
    "print(total_credit_balance)     \n",
    "print(num_accounts_with_credit)\n",
    "        "
   ]
  }
 ],
 "metadata": {
  "kernelspec": {
   "display_name": "Python 3",
   "language": "python",
   "name": "python3"
  },
  "language_info": {
   "codemirror_mode": {
    "name": "ipython",
    "version": 3
   },
   "file_extension": ".py",
   "mimetype": "text/x-python",
   "name": "python",
   "nbconvert_exporter": "python",
   "pygments_lexer": "ipython3",
   "version": "3.7.3"
  }
 },
 "nbformat": 4,
 "nbformat_minor": 2
}
